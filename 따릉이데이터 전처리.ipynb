{
 "cells": [
  {
   "cell_type": "code",
   "execution_count": 2,
   "metadata": {},
   "outputs": [],
   "source": [
    "import pandas as pd\n",
    "import matplotlib.pyplot as plt\n",
    "\n",
    "\n",
    "# 파일 경로를 지정합니다.\n",
    "file_path = r'C:\\Users\\dlwlg\\OneDrive\\Desktop\\project\\practice\\Data\\서울특별시 공공자전거 대여이력 정보_2405.csv'\n",
    "\n",
    "# CSV 파일을 데이터프레임으로 불러옵니다.\n",
    "df = pd.read_csv(file_path, encoding='cp949')"
   ]
  },
  {
   "cell_type": "code",
   "execution_count": 3,
   "metadata": {},
   "outputs": [
    {
     "name": "stdout",
     "output_type": "stream",
     "text": [
      "<class 'pandas.core.frame.DataFrame'>\n",
      "RangeIndex: 4947830 entries, 0 to 4947829\n",
      "Data columns (total 17 columns):\n",
      " #   Column    Dtype  \n",
      "---  ------    -----  \n",
      " 0   자전거번호     object \n",
      " 1   대여일시      object \n",
      " 2   대여 대여소번호  int64  \n",
      " 3   대여 대여소명   object \n",
      " 4   대여거치대     int64  \n",
      " 5   반납일시      object \n",
      " 6   반납대여소번호   object \n",
      " 7   반납대여소명    object \n",
      " 8   반납거치대     object \n",
      " 9   이용시간(분)   int64  \n",
      " 10  이용거리(M)   float64\n",
      " 11  생년        object \n",
      " 12  성별        object \n",
      " 13  이용자종류     object \n",
      " 14  대여대여소ID   object \n",
      " 15  반납대여소ID   object \n",
      " 16  자전거구분     object \n",
      "dtypes: float64(1), int64(3), object(13)\n",
      "memory usage: 641.7+ MB\n"
     ]
    }
   ],
   "source": [
    "df.info()"
   ]
  },
  {
   "cell_type": "code",
   "execution_count": 4,
   "metadata": {},
   "outputs": [
    {
     "data": {
      "text/html": [
       "<div>\n",
       "<style scoped>\n",
       "    .dataframe tbody tr th:only-of-type {\n",
       "        vertical-align: middle;\n",
       "    }\n",
       "\n",
       "    .dataframe tbody tr th {\n",
       "        vertical-align: top;\n",
       "    }\n",
       "\n",
       "    .dataframe thead th {\n",
       "        text-align: right;\n",
       "    }\n",
       "</style>\n",
       "<table border=\"1\" class=\"dataframe\">\n",
       "  <thead>\n",
       "    <tr style=\"text-align: right;\">\n",
       "      <th></th>\n",
       "      <th>자전거번호</th>\n",
       "      <th>대여일시</th>\n",
       "      <th>대여 대여소번호</th>\n",
       "      <th>대여 대여소명</th>\n",
       "      <th>대여거치대</th>\n",
       "      <th>반납일시</th>\n",
       "      <th>반납대여소번호</th>\n",
       "      <th>반납대여소명</th>\n",
       "      <th>반납거치대</th>\n",
       "      <th>이용시간(분)</th>\n",
       "      <th>이용거리(M)</th>\n",
       "      <th>생년</th>\n",
       "      <th>성별</th>\n",
       "      <th>이용자종류</th>\n",
       "      <th>대여대여소ID</th>\n",
       "      <th>반납대여소ID</th>\n",
       "      <th>자전거구분</th>\n",
       "    </tr>\n",
       "  </thead>\n",
       "  <tbody>\n",
       "    <tr>\n",
       "      <th>0</th>\n",
       "      <td>SPB-84535</td>\n",
       "      <td>2024-05-01 00:00:16</td>\n",
       "      <td>540</td>\n",
       "      <td>군자역 7번출구 베스트샵 앞</td>\n",
       "      <td>99</td>\n",
       "      <td>2024-05-01 00:00:31</td>\n",
       "      <td>00540</td>\n",
       "      <td>군자역 7번출구 베스트샵 앞</td>\n",
       "      <td>99</td>\n",
       "      <td>0</td>\n",
       "      <td>0.00</td>\n",
       "      <td>1997</td>\n",
       "      <td>F</td>\n",
       "      <td>내국인</td>\n",
       "      <td>ST-253</td>\n",
       "      <td>ST-253</td>\n",
       "      <td>새싹자전거</td>\n",
       "    </tr>\n",
       "    <tr>\n",
       "      <th>1</th>\n",
       "      <td>SPB-30613</td>\n",
       "      <td>2024-05-01 00:00:33</td>\n",
       "      <td>540</td>\n",
       "      <td>군자역 7번출구 베스트샵 앞</td>\n",
       "      <td>0</td>\n",
       "      <td>2024-05-01 00:00:43</td>\n",
       "      <td>00540</td>\n",
       "      <td>군자역 7번출구 베스트샵 앞</td>\n",
       "      <td>0</td>\n",
       "      <td>0</td>\n",
       "      <td>0.00</td>\n",
       "      <td>1997</td>\n",
       "      <td>M</td>\n",
       "      <td>내국인</td>\n",
       "      <td>ST-253</td>\n",
       "      <td>ST-253</td>\n",
       "      <td>일반자전거</td>\n",
       "    </tr>\n",
       "    <tr>\n",
       "      <th>2</th>\n",
       "      <td>SPB-36047</td>\n",
       "      <td>2024-05-01 00:00:40</td>\n",
       "      <td>2644</td>\n",
       "      <td>성내5교</td>\n",
       "      <td>0</td>\n",
       "      <td>2024-05-01 00:01:09</td>\n",
       "      <td>02644</td>\n",
       "      <td>성내5교</td>\n",
       "      <td>0</td>\n",
       "      <td>0</td>\n",
       "      <td>0.00</td>\n",
       "      <td>1962</td>\n",
       "      <td>\\N</td>\n",
       "      <td>내국인</td>\n",
       "      <td>ST-1796</td>\n",
       "      <td>ST-1796</td>\n",
       "      <td>일반자전거</td>\n",
       "    </tr>\n",
       "    <tr>\n",
       "      <th>3</th>\n",
       "      <td>SPB-38596</td>\n",
       "      <td>2024-05-01 00:00:22</td>\n",
       "      <td>1480</td>\n",
       "      <td>용마지구대 B</td>\n",
       "      <td>0</td>\n",
       "      <td>2024-05-01 00:01:26</td>\n",
       "      <td>01479</td>\n",
       "      <td>면목 홈플러스 2</td>\n",
       "      <td>0</td>\n",
       "      <td>1</td>\n",
       "      <td>176.24</td>\n",
       "      <td>1989</td>\n",
       "      <td>\\N</td>\n",
       "      <td>내국인</td>\n",
       "      <td>ST-2301</td>\n",
       "      <td>ST-2300</td>\n",
       "      <td>일반자전거</td>\n",
       "    </tr>\n",
       "    <tr>\n",
       "      <th>4</th>\n",
       "      <td>SPB-66912</td>\n",
       "      <td>2024-05-01 00:01:08</td>\n",
       "      <td>4332</td>\n",
       "      <td>이수교차로</td>\n",
       "      <td>0</td>\n",
       "      <td>2024-05-01 00:01:30</td>\n",
       "      <td>04332</td>\n",
       "      <td>이수교차로</td>\n",
       "      <td>0</td>\n",
       "      <td>0</td>\n",
       "      <td>0.00</td>\n",
       "      <td>\\N</td>\n",
       "      <td>F</td>\n",
       "      <td>내국인</td>\n",
       "      <td>ST-3086</td>\n",
       "      <td>ST-3086</td>\n",
       "      <td>일반자전거</td>\n",
       "    </tr>\n",
       "  </tbody>\n",
       "</table>\n",
       "</div>"
      ],
      "text/plain": [
       "       자전거번호                 대여일시  대여 대여소번호          대여 대여소명  대여거치대  \\\n",
       "0  SPB-84535  2024-05-01 00:00:16       540  군자역 7번출구 베스트샵 앞     99   \n",
       "1  SPB-30613  2024-05-01 00:00:33       540  군자역 7번출구 베스트샵 앞      0   \n",
       "2  SPB-36047  2024-05-01 00:00:40      2644             성내5교      0   \n",
       "3  SPB-38596  2024-05-01 00:00:22      1480          용마지구대 B      0   \n",
       "4  SPB-66912  2024-05-01 00:01:08      4332            이수교차로      0   \n",
       "\n",
       "                  반납일시 반납대여소번호           반납대여소명 반납거치대  이용시간(분)  이용거리(M)    생년  \\\n",
       "0  2024-05-01 00:00:31   00540  군자역 7번출구 베스트샵 앞    99        0     0.00  1997   \n",
       "1  2024-05-01 00:00:43   00540  군자역 7번출구 베스트샵 앞     0        0     0.00  1997   \n",
       "2  2024-05-01 00:01:09   02644             성내5교     0        0     0.00  1962   \n",
       "3  2024-05-01 00:01:26   01479        면목 홈플러스 2     0        1   176.24  1989   \n",
       "4  2024-05-01 00:01:30   04332            이수교차로     0        0     0.00    \\N   \n",
       "\n",
       "   성별 이용자종류  대여대여소ID  반납대여소ID  자전거구분  \n",
       "0   F   내국인   ST-253   ST-253  새싹자전거  \n",
       "1   M   내국인   ST-253   ST-253  일반자전거  \n",
       "2  \\N   내국인  ST-1796  ST-1796  일반자전거  \n",
       "3  \\N   내국인  ST-2301  ST-2300  일반자전거  \n",
       "4   F   내국인  ST-3086  ST-3086  일반자전거  "
      ]
     },
     "execution_count": 4,
     "metadata": {},
     "output_type": "execute_result"
    }
   ],
   "source": [
    "df.head()"
   ]
  },
  {
   "cell_type": "code",
   "execution_count": 5,
   "metadata": {},
   "outputs": [
    {
     "name": "stdout",
     "output_type": "stream",
     "text": [
      "<class 'pandas.core.frame.DataFrame'>\n",
      "Index: 492997 entries, 0 to 4947806\n",
      "Data columns (total 17 columns):\n",
      " #   Column    Non-Null Count   Dtype  \n",
      "---  ------    --------------   -----  \n",
      " 0   자전거번호     492997 non-null  object \n",
      " 1   대여일시      492997 non-null  object \n",
      " 2   대여 대여소번호  492997 non-null  int64  \n",
      " 3   대여 대여소명   492997 non-null  object \n",
      " 4   대여거치대     492997 non-null  int64  \n",
      " 5   반납일시      492997 non-null  object \n",
      " 6   반납대여소번호   492997 non-null  object \n",
      " 7   반납대여소명    492997 non-null  object \n",
      " 8   반납거치대     492997 non-null  object \n",
      " 9   이용시간(분)   492997 non-null  int64  \n",
      " 10  이용거리(M)   492997 non-null  float64\n",
      " 11  생년        492997 non-null  object \n",
      " 12  성별        480575 non-null  object \n",
      " 13  이용자종류     492997 non-null  object \n",
      " 14  대여대여소ID   492997 non-null  object \n",
      " 15  반납대여소ID   492997 non-null  object \n",
      " 16  자전거구분     492997 non-null  object \n",
      "dtypes: float64(1), int64(3), object(13)\n",
      "memory usage: 67.7+ MB\n",
      "<class 'pandas.core.frame.DataFrame'>\n",
      "Index: 492997 entries, 0 to 4947806\n",
      "Data columns (total 17 columns):\n",
      " #   Column    Non-Null Count   Dtype  \n",
      "---  ------    --------------   -----  \n",
      " 0   자전거번호     492997 non-null  object \n",
      " 1   대여일시      492997 non-null  object \n",
      " 2   대여 대여소번호  492997 non-null  int64  \n",
      " 3   대여 대여소명   492997 non-null  object \n",
      " 4   대여거치대     492997 non-null  int64  \n",
      " 5   반납일시      492997 non-null  object \n",
      " 6   반납대여소번호   492997 non-null  object \n",
      " 7   반납대여소명    492997 non-null  object \n",
      " 8   반납거치대     492997 non-null  object \n",
      " 9   이용시간(분)   492997 non-null  int64  \n",
      " 10  이용거리(M)   492997 non-null  float64\n",
      " 11  생년        492997 non-null  object \n",
      " 12  성별        480575 non-null  object \n",
      " 13  이용자종류     492997 non-null  object \n",
      " 14  대여대여소ID   492997 non-null  object \n",
      " 15  반납대여소ID   492997 non-null  object \n",
      " 16  자전거구분     492997 non-null  object \n",
      "dtypes: float64(1), int64(3), object(13)\n",
      "memory usage: 67.7+ MB\n"
     ]
    }
   ],
   "source": [
    "# 대여, 반납 위치가 같은 데이터 추출(ID로)\n",
    "# 492997\n",
    "\n",
    "same_station1 = df[df['대여대여소ID'] == df['반납대여소ID']]\n",
    "same_station1.info()\n",
    "\n",
    "\n",
    "# 대여, 반납 위치가 같은 데이터 추출(대여소명으로)\n",
    "# 492997\n",
    "\n",
    "same_station2 = df[df['대여 대여소명'] == df['반납대여소명']]\n",
    "same_station2.info()"
   ]
  },
  {
   "cell_type": "code",
   "execution_count": 6,
   "metadata": {},
   "outputs": [],
   "source": [
    "# 자전거 번호, 대여소 거치대, 반납 거치대, 이용자 종류, 대여 대여소ID, 반납 대여소ID, 대여 대여소번호, 반납대여소번호\n",
    "\n",
    "df = df.drop(columns=['자전거번호','이용자종류','대여거치대','반납거치대', '대여대여소ID', '반납대여소ID' ,'대여 대여소번호' ,'반납대여소번호'])"
   ]
  },
  {
   "cell_type": "code",
   "execution_count": 7,
   "metadata": {},
   "outputs": [
    {
     "data": {
      "text/html": [
       "<div>\n",
       "<style scoped>\n",
       "    .dataframe tbody tr th:only-of-type {\n",
       "        vertical-align: middle;\n",
       "    }\n",
       "\n",
       "    .dataframe tbody tr th {\n",
       "        vertical-align: top;\n",
       "    }\n",
       "\n",
       "    .dataframe thead th {\n",
       "        text-align: right;\n",
       "    }\n",
       "</style>\n",
       "<table border=\"1\" class=\"dataframe\">\n",
       "  <thead>\n",
       "    <tr style=\"text-align: right;\">\n",
       "      <th></th>\n",
       "      <th>대여일시</th>\n",
       "      <th>대여 대여소명</th>\n",
       "      <th>반납일시</th>\n",
       "      <th>반납대여소명</th>\n",
       "      <th>이용시간(분)</th>\n",
       "      <th>이용거리(M)</th>\n",
       "      <th>생년</th>\n",
       "      <th>성별</th>\n",
       "      <th>자전거구분</th>\n",
       "    </tr>\n",
       "  </thead>\n",
       "  <tbody>\n",
       "    <tr>\n",
       "      <th>0</th>\n",
       "      <td>2024-05-01 00:00:16</td>\n",
       "      <td>군자역 7번출구 베스트샵 앞</td>\n",
       "      <td>2024-05-01 00:00:31</td>\n",
       "      <td>군자역 7번출구 베스트샵 앞</td>\n",
       "      <td>0</td>\n",
       "      <td>0.00</td>\n",
       "      <td>1997</td>\n",
       "      <td>F</td>\n",
       "      <td>새싹자전거</td>\n",
       "    </tr>\n",
       "    <tr>\n",
       "      <th>1</th>\n",
       "      <td>2024-05-01 00:00:33</td>\n",
       "      <td>군자역 7번출구 베스트샵 앞</td>\n",
       "      <td>2024-05-01 00:00:43</td>\n",
       "      <td>군자역 7번출구 베스트샵 앞</td>\n",
       "      <td>0</td>\n",
       "      <td>0.00</td>\n",
       "      <td>1997</td>\n",
       "      <td>M</td>\n",
       "      <td>일반자전거</td>\n",
       "    </tr>\n",
       "    <tr>\n",
       "      <th>2</th>\n",
       "      <td>2024-05-01 00:00:40</td>\n",
       "      <td>성내5교</td>\n",
       "      <td>2024-05-01 00:01:09</td>\n",
       "      <td>성내5교</td>\n",
       "      <td>0</td>\n",
       "      <td>0.00</td>\n",
       "      <td>1962</td>\n",
       "      <td>\\N</td>\n",
       "      <td>일반자전거</td>\n",
       "    </tr>\n",
       "    <tr>\n",
       "      <th>3</th>\n",
       "      <td>2024-05-01 00:00:22</td>\n",
       "      <td>용마지구대 B</td>\n",
       "      <td>2024-05-01 00:01:26</td>\n",
       "      <td>면목 홈플러스 2</td>\n",
       "      <td>1</td>\n",
       "      <td>176.24</td>\n",
       "      <td>1989</td>\n",
       "      <td>\\N</td>\n",
       "      <td>일반자전거</td>\n",
       "    </tr>\n",
       "    <tr>\n",
       "      <th>4</th>\n",
       "      <td>2024-05-01 00:01:08</td>\n",
       "      <td>이수교차로</td>\n",
       "      <td>2024-05-01 00:01:30</td>\n",
       "      <td>이수교차로</td>\n",
       "      <td>0</td>\n",
       "      <td>0.00</td>\n",
       "      <td>\\N</td>\n",
       "      <td>F</td>\n",
       "      <td>일반자전거</td>\n",
       "    </tr>\n",
       "  </tbody>\n",
       "</table>\n",
       "</div>"
      ],
      "text/plain": [
       "                  대여일시          대여 대여소명                 반납일시           반납대여소명  \\\n",
       "0  2024-05-01 00:00:16  군자역 7번출구 베스트샵 앞  2024-05-01 00:00:31  군자역 7번출구 베스트샵 앞   \n",
       "1  2024-05-01 00:00:33  군자역 7번출구 베스트샵 앞  2024-05-01 00:00:43  군자역 7번출구 베스트샵 앞   \n",
       "2  2024-05-01 00:00:40             성내5교  2024-05-01 00:01:09             성내5교   \n",
       "3  2024-05-01 00:00:22          용마지구대 B  2024-05-01 00:01:26        면목 홈플러스 2   \n",
       "4  2024-05-01 00:01:08            이수교차로  2024-05-01 00:01:30            이수교차로   \n",
       "\n",
       "   이용시간(분)  이용거리(M)    생년  성별  자전거구분  \n",
       "0        0     0.00  1997   F  새싹자전거  \n",
       "1        0     0.00  1997   M  일반자전거  \n",
       "2        0     0.00  1962  \\N  일반자전거  \n",
       "3        1   176.24  1989  \\N  일반자전거  \n",
       "4        0     0.00    \\N   F  일반자전거  "
      ]
     },
     "execution_count": 7,
     "metadata": {},
     "output_type": "execute_result"
    }
   ],
   "source": [
    "df.head()"
   ]
  },
  {
   "cell_type": "code",
   "execution_count": 8,
   "metadata": {},
   "outputs": [],
   "source": [
    "# 대여일시 데이터를 가지고 요일 시간  컬럼 추가\n",
    "\n",
    "df['대여일시'] = pd.to_datetime(df['대여일시'])\n",
    "df['요일'] = df['대여일시'].dt.dayofweek\n",
    "df['시간'] = df['대여일시'].dt.hour"
   ]
  },
  {
   "cell_type": "markdown",
   "metadata": {},
   "source": [
    "## 데이터 전처리를 위한 시각화"
   ]
  },
  {
   "cell_type": "code",
   "execution_count": 9,
   "metadata": {},
   "outputs": [],
   "source": [
    "# 새싹자전거 이용시간대 확인\n",
    "\n",
    "import matplotlib.pyplot as plt\n",
    "import matplotlib.font_manager as fm\n",
    "\n",
    "plt.rcParams['font.family'] = 'Malgun Gothic'  # Windows의 경우 '맑은 고딕'\n",
    "plt.rcParams['axes.unicode_minus'] = False  # 한글 폰트 사용 시 마이너스 기호 깨짐 방지\n"
   ]
  },
  {
   "cell_type": "code",
   "execution_count": 10,
   "metadata": {},
   "outputs": [
    {
     "data": {
      "image/png": "[encoded data removed]",
      "text/plain": [
       "<Figure size 1000x600 with 1 Axes>"
      ]
     },
     "metadata": {},
     "output_type": "display_data"
    }
   ],
   "source": [
    "# '새싹자전거' 필터링\n",
    "df_sesak = df[df['자전거구분'] == '새싹자전거']\n",
    "\n",
    "# 시간대별 이용 빈도 시각화\n",
    "plt.figure(figsize=(10, 6))\n",
    "plt.hist(df_sesak['시간'], bins=24, range=(0, 24), edgecolor='black')\n",
    "plt.title('시간대별 새싹자전거 이용 빈도')\n",
    "plt.xlabel('시간 (시)')\n",
    "plt.ylabel('이용 횟수')\n",
    "plt.xticks(range(0, 24))\n",
    "plt.grid(axis='y')\n",
    "\n",
    "# 그래프 표시\n",
    "plt.show()\n",
    "\n"
   ]
  },
  {
   "cell_type": "code",
   "execution_count": 11,
   "metadata": {},
   "outputs": [
    {
     "name": "stdout",
     "output_type": "stream",
     "text": [
      "<class 'pandas.core.frame.DataFrame'>\n",
      "Index: 4825919 entries, 3 to 4947829\n",
      "Data columns (total 11 columns):\n",
      " #   Column   Dtype         \n",
      "---  ------   -----         \n",
      " 0   대여일시     datetime64[ns]\n",
      " 1   대여 대여소명  object        \n",
      " 2   반납일시     object        \n",
      " 3   반납대여소명   object        \n",
      " 4   이용시간(분)  int64         \n",
      " 5   이용거리(M)  float64       \n",
      " 6   생년       object        \n",
      " 7   성별       object        \n",
      " 8   자전거구분    object        \n",
      " 9   요일       int32         \n",
      " 10  시간       int32         \n",
      "dtypes: datetime64[ns](1), float64(1), int32(2), int64(1), object(6)\n",
      "memory usage: 405.0+ MB\n"
     ]
    }
   ],
   "source": [
    "# 4825919 약 십만개 데이터 제외\n",
    "\n",
    "df_filtered = df[(df['이용시간(분)'] != 0) | (df['이용거리(M)'] != 0)]\n",
    "df_filtered.info()"
   ]
  },
  {
   "cell_type": "code",
   "execution_count": 14,
   "metadata": {},
   "outputs": [
    {
     "data": {
      "text/plain": [
       "np.int64(134646)"
      ]
     },
     "execution_count": 14,
     "metadata": {},
     "output_type": "execute_result"
    }
   ],
   "source": [
    "df_zero_time = (df['이용시간(분)'] == 0).sum()\n",
    "df_zero_time"
   ]
  },
  {
   "cell_type": "code",
   "execution_count": 15,
   "metadata": {},
   "outputs": [
    {
     "data": {
      "text/plain": [
       "np.int64(244658)"
      ]
     },
     "execution_count": 15,
     "metadata": {},
     "output_type": "execute_result"
    }
   ],
   "source": [
    "df_zero_distance = (df['이용거리(M)'] == 0).sum()\n",
    "df_zero_distance"
   ]
  },
  {
   "cell_type": "code",
   "execution_count": null,
   "metadata": {},
   "outputs": [],
   "source": []
  }
 ],
 "metadata": {
  "kernelspec": {
   "display_name": "dav",
   "language": "python",
   "name": "python3"
  },
  "language_info": {
   "codemirror_mode": {
    "name": "ipython",
    "version": 3
   },
   "file_extension": ".py",
   "mimetype": "text/x-python",
   "name": "python",
   "nbconvert_exporter": "python",
   "pygments_lexer": "ipython3",
   "version": "3.12.4"
  }
 },
 "nbformat": 4,
 "nbformat_minor": 2
}
